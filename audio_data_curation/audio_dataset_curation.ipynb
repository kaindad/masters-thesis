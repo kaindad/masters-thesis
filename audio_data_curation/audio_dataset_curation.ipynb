{
  "nbformat": 4,
  "nbformat_minor": 0,
  "metadata": {
    "colab": {
      "provenance": [],
      "include_colab_link": true
    },
    "kernelspec": {
      "name": "python3",
      "display_name": "Python 3"
    }
  },
  "cells": [
    {
      "cell_type": "markdown",
      "metadata": {
        "id": "view-in-github",
        "colab_type": "text"
      },
      "source": [
        "<a href=\"https://colab.research.google.com/github/kaindad/masters-thesis/blob/main/audio_dataset_curation.ipynb\" target=\"_parent\"><img src=\"https://colab.research.google.com/assets/colab-badge.svg\" alt=\"Open In Colab\"/></a>"
      ]
    },
    {
      "cell_type": "markdown",
      "metadata": {
        "id": "PAn75H1iPYOD"
      },
      "source": [
        "# Audio Data Preprocessing\n",
        "### Upload the clean Mendeley data samples and curate them\n",
        "\n",
        "\n",
        "The audio samples should be `.wav` format, mono, and 1 second long. Bitrate and bitdepth should not matter. Samples shorter than 1 second will be padded with 0s, and samples longer than 1 second will be truncated to 1 second. The exact name of each `.wav` matter, as they will be read, mixed with background noise, and saved to a separate file with an auto-generated name. Directory name does matter (it is used to determine the name of the class during neural network training).\n",
        "\n",
        "Right-click and upload all of the samples on the top level directory . The directory structure should look like the following:\n",
        "\n",
        "```\n",
        "/\n",
        "|- chicken-data-healthy-combined-clean.wav\n",
        "|- chicken-data-noise-combined-clean.wav\n",
        "|- chicken-data-unhealthy-combined-clean.wav\n",
        "```\n",
        "\n",
        "# Split the data\n",
        "\n",
        "Run the WavSplitter methods as follows to split the data into 1 seconds each so that it can be uploaded to the Edge Impulse Studio:\n",
        "\n",
        "```\n",
        "# Example usage:\n",
        "unhealthy_filename = \"chicken-data-unhealthy-combined-clean.wav\"\n",
        "audio_splitter = WavFileSplitter(source_filename)\n",
        "audio_splitter.split_audio_into_intervals(1, \"unhealthy\")\n",
        "```\n",
        "\n"
      ]
    },
    {
      "cell_type": "code",
      "source": [
        "pip install pydub"
      ],
      "metadata": {
        "colab": {
          "base_uri": "https://localhost:8080/"
        },
        "id": "uezrQvmZ7oa7",
        "outputId": "6c0e38fb-31c6-42c1-9fd7-6956f72987f4"
      },
      "execution_count": null,
      "outputs": [
        {
          "output_type": "stream",
          "name": "stdout",
          "text": [
            "Collecting pydub\n",
            "  Downloading pydub-0.25.1-py2.py3-none-any.whl (32 kB)\n",
            "Installing collected packages: pydub\n",
            "Successfully installed pydub-0.25.1\n"
          ]
        }
      ]
    },
    {
      "cell_type": "code",
      "source": [
        "import os\n",
        "from pydub import AudioSegment\n",
        "import math\n",
        "\n",
        "class WavFileSplitter():\n",
        "    def __init__(self, source_filename):\n",
        "        self.current_directory = os.getcwd()  # Get the current directory\n",
        "        self.source_filename = source_filename\n",
        "        self.source_filepath = os.path.join(self.current_directory, source_filename)\n",
        "\n",
        "        self.audio_segment = AudioSegment.from_wav(self.source_filepath)\n",
        "\n",
        "    def _calculate_audio_duration(self):\n",
        "        return self.audio_segment.duration_seconds\n",
        "\n",
        "    def _export_audio_slice(self, start_second, end_second, output_filename, destination_directory):\n",
        "        start_time = start_second * 1000  # Convert to milliseconds\n",
        "        end_time = end_second * 1000  # Convert to milliseconds\n",
        "        audio_slice = self.audio_segment[start_time:end_time]\n",
        "        audio_slice.export(os.path.join(destination_directory, output_filename), format=\"wav\")\n",
        "\n",
        "    def split_audio_into_intervals(self, seconds_per_slice, output_prefix):\n",
        "        destination_directory = os.path.join(self.current_directory, output_prefix)\n",
        "        if not os.path.exists(destination_directory):\n",
        "            os.makedirs(destination_directory)  # Create the directory if it doesn't exist\n",
        "\n",
        "        total_seconds = math.ceil(self._calculate_audio_duration())\n",
        "        for i in range(0, total_seconds, seconds_per_slice):\n",
        "            slice_filename = f\"{output_prefix}_{i+1}.wav\"  # Naming files like prefix_1.wav, prefix_2.wav, ...\n",
        "            self._export_audio_slice(i, i+seconds_per_slice, slice_filename, destination_directory)\n",
        "            print(f\"Exported: {slice_filename}\")\n",
        "            if i == total_seconds - seconds_per_slice:\n",
        "                print('All slices exported successfully')\n",
        "\n",
        "# Example usage:\n",
        "unhealthy_filename = \"chicken-data-unhealthy-combined-clean.wav\"\n",
        "audio_splitter = WavFileSplitter(source_filename)\n",
        "audio_splitter.split_audio_into_intervals(1, \"unhealthy\")  # This will split the WAV file into 1-second intervals with the prefix \"unhealthy_slice\"\n",
        "\n",
        "# Example usage:\n",
        "healthy_filename = \"chicken-data-healthy-combined-clean.wav\"\n",
        "audio_splitter = WavFileSplitter(source_filename)\n",
        "audio_splitter.split_audio_into_intervals(1, \"healthy\")  # This will split the WAV file into 1-second intervals with the prefix \"unhealthy_slice\"\n",
        "\n",
        "\n",
        "# Example usage:\n",
        "source_filename = \"chicken-data-noise-combined-clean.wav\"\n",
        "audio_splitter = WavFileSplitter(source_filename)\n",
        "audio_splitter.split_audio_into_intervals(1, \"noise\")  # This will split the WAV file into 1-second intervals with the prefix \"unhealthy_slice\""
      ],
      "metadata": {
        "id": "LEVlDGqP3dip"
      },
      "execution_count": null,
      "outputs": []
    },
    {
      "cell_type": "code",
      "source": [
        "import shutil\n",
        "import os\n",
        "\n",
        "def compress_directory(folder_name, output_file_name):\n",
        "    \"\"\"\n",
        "    Compresses the specified directory into a zip file.\n",
        "\n",
        "    Parameters:\n",
        "    - folder_name (str): Name of the directory to be compressed.\n",
        "    - output_file_name (str): Name of the output compressed file (including .zip extension).\n",
        "\n",
        "    Returns:\n",
        "    - str: Path to the compressed file.\n",
        "    \"\"\"\n",
        "    source_directory = os.path.join(os.getcwd(), folder_name)\n",
        "\n",
        "    # Ensure the output file name ends with .zip\n",
        "    if not output_file_name.endswith('.zip'):\n",
        "        output_file_name += '.zip'\n",
        "\n",
        "    # Compress the directory\n",
        "    shutil.make_archive(output_file_name[:-4], 'zip', source_directory)\n",
        "\n",
        "    return os.path.join(os.getcwd(), output_file_name)\n",
        "\n",
        "# Example usage:\n",
        "compressed_file_path = compress_directory(\"unhealthy\", \"unhealthy_compressed.zip\")\n",
        "print(f\"Directory compressed to: {compressed_file_path}\")\n",
        "\n"
      ],
      "metadata": {
        "id": "ev1xPesm_xAk"
      },
      "execution_count": null,
      "outputs": []
    }
  ]
}